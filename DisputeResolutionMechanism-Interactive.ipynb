{
 "cells": [
  {
   "cell_type": "code",
   "execution_count": 16,
   "metadata": {},
   "outputs": [
    {
     "name": "stdout",
     "output_type": "stream",
     "text": [
      "Note: you may need to restart the kernel to use updated packages.\n"
     ]
    }
   ],
   "source": [
    "%pip install --quiet solara"
   ]
  },
  {
   "cell_type": "code",
   "execution_count": 26,
   "metadata": {},
   "outputs": [],
   "source": [
    "import numpy as np\n",
    "import matplotlib.pyplot as plt\n",
    "\n",
    "import solara"
   ]
  },
  {
   "cell_type": "code",
   "execution_count": 100,
   "metadata": {},
   "outputs": [],
   "source": [
    "C = solara.reactive(0.25)\n",
    "p_ctp = solara.reactive(0.85)\n",
    "p_cfp = solara.reactive(0.1)\n",
    "t_dtp = solara.reactive(6)\n",
    "t_dfp = solara.reactive(114)\n",
    "apr = solara.reactive(0.065)\n",
    "Xi = solara.reactive(2000)\n",
    "operator_pctg = solara.reactive(0.05)\n",
    "#r = 32 * apr * operator_pctg / 12\n",
    "tilde_cw = solara.reactive(5)\n",
    "commission_wl = solara.reactive(0.03)\n",
    "wl_cost_type = solara.reactive(\"Fixed dollar cost\")\n",
    "#c_w = tilde_cw * Xi_inverse if fixed_cost_in_dollars else r*commission_wl\n",
    "c_h_dollars = solara.reactive(1500)\n",
    "#c_h = c_h_dollars * Xi_inverse\n",
    "alpha = solara.reactive(2)\n",
    "a_max = solara.reactive((1-p_cfp.value) / p_cfp.value)\n",
    "a_min = solara.reactive((1-p_ctp.value) / p_ctp.value)\n",
    "\n",
    "max_n = solara.reactive(10)"
   ]
  },
  {
   "cell_type": "code",
   "execution_count": 124,
   "metadata": {},
   "outputs": [],
   "source": [
    "@solara.component\n",
    "def Page():\n",
    "    with solara.Row():\n",
    "        solara.InputFloat(\"Court fees (ETH)\", value=C, continuous_update=True)\n",
    "        solara.InputFloat(\"p_CTP\", value=p_ctp, continuous_update=True)\n",
    "        solara.InputFloat(\"p_CFP\", value=p_cfp, continuous_update=True)\n",
    "        solara.InputFloat(\"t_DTP\", value=t_dtp, continuous_update=True)\n",
    "        solara.InputFloat(\"t_DFP\", value=t_dfp, continuous_update=True)\n",
    "    with solara.Row():\n",
    "        solara.InputFloat(\"Staking APR\", value=apr, continuous_update=True)\n",
    "        r = 32 * apr.value * operator_pctg.value / 12\n",
    "        solara.InputFloat(\"ETH/USD exchange rate\", value=Xi, continuous_update=True)\n",
    "        Xi_inverse = 1/Xi.value\n",
    "    with solara.Row():\n",
    "        solara.InputFloat(\"Lido operator reward percentage\", value=operator_pctg, continuous_update=True)\n",
    "        solara.InputFloat(\"Cost of honest operator (USD)\", value=c_h_dollars, continuous_update=True)\n",
    "        c_h = c_h_dollars.value * Xi_inverse\n",
    "\n",
    "        solara.Select(\"White label cost type\", value=wl_cost_type, values=[\"Fixed dollar cost\", \"Percent of APR\"])\n",
    "        if wl_cost_type.value == \"Fixed dollar cost\":\n",
    "            solara.InputFloat(\"Fixed cost of white-labeling (USD)\", value=tilde_cw, continuous_update=True)\n",
    "            c_w = tilde_cw.value * Xi_inverse\n",
    "        else:\n",
    "            solara.InputFloat(\"White-labeling Commission (%)\", value=commission_wl, continuous_update=True)\n",
    "            c_w = r*commission_wl.value\n",
    "\n",
    "    with solara.Row():\n",
    "        solara.SliderFloat(\"Reward to accuser's bond ratio (alpha)\", value=alpha, min=a_min.value, max=a_max.value, step=0.01)\n",
    "    \n",
    "    with solara.Row():\n",
    "        solara.InputInt(\"Max validator count\", value=max_n, continuous_update=True)\n",
    "        n_range = np.arange(1,max_n.value+1)\n",
    "    \n",
    "    # calculations\n",
    "    R_min_perf = (r-c_w) * t_dtp.value * n_range - C.value\n",
    "    R_min_imperf = R_min_perf / (p_ctp.value - (1-p_ctp.value)/alpha.value)\n",
    "    R_min_honest = (C.value + c_h - r*t_dfp.value*n_range) / ((1-p_cfp.value)/alpha.value - p_cfp.value)\n",
    "    R_min_aggregate = np.maximum.reduce([R_min_perf, R_min_imperf, R_min_honest, np.zeros(max_n.value)])\n",
    "\n",
    "    accuser_return_t = (alpha.value + 1) * p_ctp.value - 1\n",
    "    accuser_return_f = (alpha.value + 1) * p_cfp.value - 1\n",
    "\n",
    "    with solara.Card():\n",
    "        solara.Markdown(f\"Expected return for an honest case: {100*accuser_return_t:.3f} %\")\n",
    "        solara.Markdown(f\"Expected return for a false case: {100*accuser_return_f:.3f} %\")\n",
    "    \n",
    "\n",
    "    # plot\n",
    "    fig = plt.figure(figsize=(20,8))\n",
    "    ax = fig.subplots()\n",
    "    ax.plot(n_range, np.maximum.reduce([R_min_perf, np.zeros(max_n.value)]), '--', label='white-label perfect court')\n",
    "    ax.plot(n_range, np.maximum.reduce([R_min_imperf, np.zeros(max_n.value)]), '--', label='white-label imperfect court')\n",
    "    ax.plot(n_range, np.maximum.reduce([R_min_honest, np.zeros(max_n.value)]), '--', label='honest opertor')\n",
    "    ax.plot(n_range, R_min_aggregate, '-', label='aggregate bound')\n",
    "    for n, r in zip(n_range, R_min_aggregate):\n",
    "        ax.annotate(f'{r:.3f}', (n, r + 0.02), fontsize=8, alpha=0.7)\n",
    "    ax.set_xlabel('Number of validators (n)', fontsize=14)\n",
    "    ax.set_ylabel('Minimum reward (ETH)', fontsize=14)\n",
    "    ax.legend(loc='lower right', fontsize=14)\n",
    "    ax.set_title(\"Lower bound on accuser's reward\", fontsize=18)\n",
    "    plt.close(fig)\n",
    "    \n",
    "    with solara.Card():\n",
    "        solara.FigureMatplotlib(fig)\n"
   ]
  },
  {
   "cell_type": "code",
   "execution_count": 74,
   "metadata": {},
   "outputs": [
    {
     "name": "stdout",
     "output_type": "stream",
     "text": [
      "Using matplotlib backend: Qt5Agg\n"
     ]
    }
   ],
   "source": [
    "%matplotlib"
   ]
  },
  {
   "cell_type": "code",
   "execution_count": 125,
   "metadata": {},
   "outputs": [
    {
     "data": {
      "application/vnd.jupyter.widget-view+json": {
       "model_id": "fc4c536a50844f7b918f483be744733a",
       "version_major": 2,
       "version_minor": 0
      },
      "text/html": [
       "Cannot show widget. You probably want to rerun the code cell above (<i>Click in the code cell, and press Shift+Enter <kbd>⇧</kbd>+<kbd>↩</kbd></i>)."
      ],
      "text/plain": [
       "Cannot show ipywidgets in text"
      ]
     },
     "metadata": {},
     "output_type": "display_data"
    }
   ],
   "source": [
    "Page()"
   ]
  }
 ],
 "metadata": {
  "kernelspec": {
   "display_name": "base",
   "language": "python",
   "name": "python3"
  },
  "language_info": {
   "codemirror_mode": {
    "name": "ipython",
    "version": 3
   },
   "file_extension": ".py",
   "mimetype": "text/x-python",
   "name": "python",
   "nbconvert_exporter": "python",
   "pygments_lexer": "ipython3",
   "version": "3.8.5"
  },
  "orig_nbformat": 4
 },
 "nbformat": 4,
 "nbformat_minor": 2
}
